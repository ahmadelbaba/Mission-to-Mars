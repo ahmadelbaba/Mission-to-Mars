{
 "cells": [
  {
   "cell_type": "code",
   "execution_count": 1,
   "id": "a3c41844-c451-4f41-a2cb-6ac98c68a284",
   "metadata": {},
   "outputs": [
    {
     "name": "stdout",
     "output_type": "stream",
     "text": [
      "# conda environments:\n",
      "#\n",
      "base                  *  C:\\Users\\Ahmad\\anaconda3\\envs\\PythonData\n",
      "\n",
      "# packages in environment at C:\\Users\\Ahmad\\anaconda3\\envs\\PythonData:\n",
      "#\n",
      "# Name                    Version                   Build  Channel\n",
      "flask                     1.1.2              pyhd3eb1b0_0  \n",
      "flask-pymongo             2.3.0                    pypi_0    pypi\n"
     ]
    }
   ],
   "source": [
    "! conda env list && conda list Flask"
   ]
  },
  {
   "cell_type": "code",
   "execution_count": 2,
   "id": "4fafb1c0-51b2-4be3-b5fe-0a6bc98dbdf2",
   "metadata": {},
   "outputs": [
    {
     "name": "stdout",
     "output_type": "stream",
     "text": [
      "C:\\Users\\Ahmad\\AppData\\Local\\Programs\\Python\\Python39\\python.exe"
     ]
    },
    {
     "name": "stderr",
     "output_type": "stream",
     "text": [
      "Python was not found; run without arguments to install from the Microsoft Store, or disable this shortcut from Settings > Manage App Execution Aliases.\n"
     ]
    },
    {
     "name": "stdout",
     "output_type": "stream",
     "text": [
      "\n",
      "C:\\Users\\Ahmad\\AppData\\Local\\Microsoft\\WindowsApps\\python.exe\n",
      "C:\\Users\\Ahmad\\anaconda3\\python.exe\n",
      "Python 3.9.5\n",
      "C:\\Users\\Ahmad\\AppData\\Local\\Microsoft\\WindowsApps\\python3.exe\n"
     ]
    }
   ],
   "source": [
    "! where python && python -V && where python3 && python3 -V "
   ]
  },
  {
   "cell_type": "code",
   "execution_count": null,
   "id": "6ff5041b-5517-4e7b-bce2-d35866e54537",
   "metadata": {},
   "outputs": [],
   "source": []
  }
 ],
 "metadata": {
  "kernelspec": {
   "display_name": "Python 3 (ipykernel)",
   "language": "python",
   "name": "python3"
  },
  "language_info": {
   "codemirror_mode": {
    "name": "ipython",
    "version": 3
   },
   "file_extension": ".py",
   "mimetype": "text/x-python",
   "name": "python",
   "nbconvert_exporter": "python",
   "pygments_lexer": "ipython3",
   "version": "3.9.5"
  }
 },
 "nbformat": 4,
 "nbformat_minor": 5
}
